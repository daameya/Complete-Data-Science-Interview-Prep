{
  "nbformat": 4,
  "nbformat_minor": 0,
  "metadata": {
    "colab": {
      "provenance": []
    },
    "kernelspec": {
      "name": "python3",
      "display_name": "Python 3"
    },
    "language_info": {
      "name": "python"
    }
  },
  "cells": [
    {
      "cell_type": "code",
      "execution_count": 21,
      "metadata": {
        "id": "knTwm2cKOAem"
      },
      "outputs": [],
      "source": [
        "str = \"hello\""
      ]
    },
    {
      "cell_type": "code",
      "source": [
        "reverse = str[::-1]\n",
        "print('Reversed string is equal to:', reverse)"
      ],
      "metadata": {
        "colab": {
          "base_uri": "https://localhost:8080/"
        },
        "id": "QGAI6a9cqABo",
        "outputId": "fc1cea97-2c8c-4a2b-83de-123468055038"
      },
      "execution_count": 22,
      "outputs": [
        {
          "output_type": "stream",
          "name": "stdout",
          "text": [
            "Reversed string is equal to: olleh\n"
          ]
        }
      ]
    },
    {
      "cell_type": "code",
      "source": [
        "import pandas as pd\n",
        "from sklearn.model_selection import train_test_split\n",
        "from sklearn.linear_model import LogisticRegression\n",
        "from sklearn.preprocessing import StandardScaler\n",
        "from sklearn.metrics import accuracy_score"
      ],
      "metadata": {
        "id": "hIHHWsmdqUf2"
      },
      "execution_count": 23,
      "outputs": []
    },
    {
      "cell_type": "code",
      "source": [
        "data = {\"Name\": ['A', 'B', 'C', 'D'],\n",
        "    \"Marks\": [85, 60, 90, 70],\n",
        "    \"IQ\": [9, 7, 10, 8],\n",
        "    \"Placement\" : [1,0,0,1] #target\n",
        "}\n",
        "\n",
        "df = pd.DataFrame(data)\n",
        "\n",
        "X = df[['Marks', 'IQ']]\n",
        "y = df['Placement']\n",
        "\n",
        "X_train, X_test, y_train, y_test = train_test_split(X, y, test_size=0.3, random_state=42)"
      ],
      "metadata": {
        "id": "hhsWG2PvqZJw"
      },
      "execution_count": 24,
      "outputs": []
    },
    {
      "cell_type": "code",
      "source": [
        "scaler = StandardScaler()\n",
        "X_train_scaled = scaler.fit_transform(X_train)\n"
      ],
      "metadata": {
        "id": "zD3JTACHqjrr"
      },
      "execution_count": 25,
      "outputs": []
    },
    {
      "cell_type": "code",
      "source": [
        "X_test_scaled = scaler.transform(X_test)\n",
        "\n",
        "model = LogisticRegression()\n",
        "model.fit(X_train_scaled, y_train)\n",
        "\n",
        "y_pred = model.predict(X_test_scaled)\n",
        "\n",
        "accuracy = accuracy_score(y_test, y_pred)"
      ],
      "metadata": {
        "id": "FpuLNSEurTo_"
      },
      "execution_count": 26,
      "outputs": []
    },
    {
      "cell_type": "code",
      "source": [
        "print(\"Accuracy:\", round(accuracy * 100, 2), \"%\")"
      ],
      "metadata": {
        "colab": {
          "base_uri": "https://localhost:8080/"
        },
        "id": "k4EPVP19rSvY",
        "outputId": "8b125f59-e5d0-4e02-a33c-320a7e59eaa7"
      },
      "execution_count": 27,
      "outputs": [
        {
          "output_type": "stream",
          "name": "stdout",
          "text": [
            "Accuracy: 50.0 %\n"
          ]
        }
      ]
    },
    {
      "cell_type": "markdown",
      "source": [
        "# Intermediate Python questions"
      ],
      "metadata": {
        "id": "lIHONzu55s2x"
      }
    },
    {
      "cell_type": "code",
      "source": [
        "# 4. Question: Write a function that checks if a given word is a palindrome.\n",
        "def is_palindrome(word):\n",
        "    return word == word[::-1]\n",
        "\n",
        "is_palindrome('madam')"
      ],
      "metadata": {
        "colab": {
          "base_uri": "https://localhost:8080/"
        },
        "id": "20LQQoTz5Hpc",
        "outputId": "82975b76-8f7a-458f-94e9-768fc9f3b765"
      },
      "execution_count": 4,
      "outputs": [
        {
          "output_type": "execute_result",
          "data": {
            "text/plain": [
              "True"
            ]
          },
          "metadata": {},
          "execution_count": 4
        }
      ]
    },
    {
      "cell_type": "code",
      "source": [
        "# 5. Question: How can you remove duplicates from a list?\n",
        "\n",
        "def remove_duplicates(lst):\n",
        "    return list(set(lst))\n",
        "\n",
        "remove_duplicates('banana')\n",
        "\n",
        "''' This method will not maintain the original order of the list. To maintain the\n",
        "    order, you can use a loop or a list comprehension.\n",
        "'''"
      ],
      "metadata": {
        "colab": {
          "base_uri": "https://localhost:8080/"
        },
        "id": "qkeopENz5fCM",
        "outputId": "323bcb35-b3e5-45eb-f696-f7486b14807e"
      },
      "execution_count": 7,
      "outputs": [
        {
          "output_type": "execute_result",
          "data": {
            "text/plain": [
              "['n', 'b', 'a']"
            ]
          },
          "metadata": {},
          "execution_count": 7
        }
      ]
    },
    {
      "cell_type": "code",
      "source": [
        "# 6. Question: How do you handle exceptions in Python?\n",
        "'''\n",
        "Using try and except blocks. For example:\n",
        "'''\n",
        "\n",
        "try:\n",
        "    x = 1 / 0\n",
        "except ZeroDivisionError:\n",
        "    print(\"Cannot divide by zero!\")"
      ],
      "metadata": {
        "colab": {
          "base_uri": "https://localhost:8080/"
        },
        "id": "iWdntcZi6hFX",
        "outputId": "6e0bbe29-8d3f-45d5-c3bf-ace01c392718"
      },
      "execution_count": 9,
      "outputs": [
        {
          "output_type": "stream",
          "name": "stdout",
          "text": [
            "Cannot divide by zero!\n"
          ]
        }
      ]
    },
    {
      "cell_type": "code",
      "source": [
        "# 10. Question: How do you deep copy an object in Python?\n",
        "'''\n",
        "Answer: You can use the copy module's deepcopy method.\n",
        "'''\n",
        "import copy\n",
        "original = [[1, 2, 3], [4, 5, 6]]\n",
        "copied = copy.deepcopy(original)\n",
        "copied"
      ],
      "metadata": {
        "colab": {
          "base_uri": "https://localhost:8080/"
        },
        "id": "JW-Xu112D9R2",
        "outputId": "b9151afc-096f-4787-ce18-15e4bdb7b1c2"
      },
      "execution_count": 21,
      "outputs": [
        {
          "output_type": "execute_result",
          "data": {
            "text/plain": [
              "[[1, 2, 3], [4, 5, 6]]"
            ]
          },
          "metadata": {},
          "execution_count": 21
        }
      ]
    },
    {
      "cell_type": "code",
      "source": [
        "# 11. Question: What is list comprehension and provide an example?\n",
        "'''\n",
        "Answer: List comprehension is a concise way to create lists in Python.\n",
        "'''\n",
        "squared_numbers = [x**2 for x in range(10)]\n",
        "squared_numbers"
      ],
      "metadata": {
        "colab": {
          "base_uri": "https://localhost:8080/"
        },
        "id": "15p0_naGEVs0",
        "outputId": "69f8829f-8fe8-4d25-b1f0-ee03026c8b6a"
      },
      "execution_count": 23,
      "outputs": [
        {
          "output_type": "execute_result",
          "data": {
            "text/plain": [
              "[0, 1, 4, 9, 16, 25, 36, 49, 64, 81]"
            ]
          },
          "metadata": {},
          "execution_count": 23
        }
      ]
    },
    {
      "cell_type": "code",
      "source": [
        "# 12. Question: What is the difference between == and is?\n",
        "'''\n",
        "Answer: == checks for value equality, while is checks for identity\n",
        "(whether two references point to the same object in memory).\n",
        "'''"
      ],
      "metadata": {
        "colab": {
          "base_uri": "https://localhost:8080/",
          "height": 53
        },
        "id": "w3ZhQcM0Es8U",
        "outputId": "db063d2e-33a4-43ff-d248-af34d7e8f2a9"
      },
      "execution_count": 24,
      "outputs": [
        {
          "output_type": "execute_result",
          "data": {
            "text/plain": [
              "'\\nAnswer: == checks for value equality, while is checks for identity \\n(whether two references point to the same object in memory).\\n'"
            ],
            "application/vnd.google.colaboratory.intrinsic+json": {
              "type": "string"
            }
          },
          "metadata": {},
          "execution_count": 24
        }
      ]
    },
    {
      "cell_type": "markdown",
      "source": [
        "# Advanced Python Questions"
      ],
      "metadata": {
        "id": "8Nmji-qd8UF7"
      }
    },
    {
      "cell_type": "code",
      "source": [
        "# 7. Question: What is a lambda function? Provide an example.\n",
        "\n",
        "'''\n",
        "Answer: A lambda function is a small, anonymous function. It can take any\n",
        "number of arguments but can only have one expression.\n",
        "'''\n",
        "multiply = lambda x, y: x * y\n",
        "print(multiply(3, 4))  # Output: 12"
      ],
      "metadata": {
        "colab": {
          "base_uri": "https://localhost:8080/"
        },
        "id": "MpSTTjY47bKj",
        "outputId": "2c6ab401-8746-46b4-8415-cf808ec6ffbf"
      },
      "execution_count": 8,
      "outputs": [
        {
          "output_type": "stream",
          "name": "stdout",
          "text": [
            "12\n"
          ]
        }
      ]
    },
    {
      "cell_type": "code",
      "source": [
        "# 8. Question: Write a function that returns the\n",
        "# n-th Fibonacci number using recursion.\n",
        "\n",
        "def fibonacci(n):\n",
        "    if n <= 1:\n",
        "        return n\n",
        "    else:\n",
        "        return fibonacci(n-1) + fibonacci(n-2)\n",
        "\n",
        "fibonacci(6)"
      ],
      "metadata": {
        "colab": {
          "base_uri": "https://localhost:8080/"
        },
        "id": "OlI7N1_V9z6o",
        "outputId": "726012e9-0ed9-4402-bad5-f26427e2d685"
      },
      "execution_count": 19,
      "outputs": [
        {
          "output_type": "execute_result",
          "data": {
            "text/plain": [
              "8"
            ]
          },
          "metadata": {},
          "execution_count": 19
        }
      ]
    },
    {
      "cell_type": "code",
      "source": [
        "# 9. Question: What are decorators in Python and how are they used?\n",
        "\n",
        "'''\n",
        "Answer: Decorators provide a way to modify or extend the behavior of\n",
        "callable objects (like functions and methods) without permanently modifying\n",
        "the callable itself. They are often used in frameworks to add functionality\n",
        "to functions or methods.\n",
        "'''\n",
        "\n",
        "def my_decorator(func):\n",
        "    def wrapper():\n",
        "        print(\"Something is happening before the function is called.\")\n",
        "        func()\n",
        "        print(\"Something is happening after the function is called.\")\n",
        "    return wrapper\n",
        "\n",
        "@my_decorator\n",
        "def say_hello():\n",
        "    print(\"Hello!\")\n",
        "\n",
        "say_hello()\n",
        "\n"
      ],
      "metadata": {
        "colab": {
          "base_uri": "https://localhost:8080/"
        },
        "id": "kEBrSshQANef",
        "outputId": "eccd1dd2-fac7-4ac9-e9df-64b5845998da"
      },
      "execution_count": 20,
      "outputs": [
        {
          "output_type": "stream",
          "name": "stdout",
          "text": [
            "Something is happening before the function is called.\n",
            "Hello!\n",
            "Something is happening after the function is called.\n"
          ]
        }
      ]
    },
    {
      "cell_type": "code",
      "source": [
        "# 13. Question: Explain the concept of *args and **kwargs in Python.\n",
        "'''\n",
        "Answer: *args allows you to pass a variable number of positional arguments\n",
        "to a function, while **kwargs allows you to pass a variable number of\n",
        "keyword arguments.\n",
        "'''\n",
        "def function_example(*args, **kwargs):\n",
        "    for arg in args:\n",
        "        print(arg)\n",
        "    for key, value in kwargs.items():\n",
        "        print(f\"{key} = {value}\")\n",
        "\n",
        "function_example(1, 2, 3, a=4, b=5)\n"
      ],
      "metadata": {
        "colab": {
          "base_uri": "https://localhost:8080/"
        },
        "id": "I2VjCy1hFFQc",
        "outputId": "20c61120-298d-422e-cfe9-89f1789158e7"
      },
      "execution_count": 1,
      "outputs": [
        {
          "output_type": "stream",
          "name": "stdout",
          "text": [
            "1\n",
            "2\n",
            "3\n",
            "a = 4\n",
            "b = 5\n"
          ]
        }
      ]
    },
    {
      "cell_type": "code",
      "source": [
        "# 14. Question: What is a generator and how is it different from a list?\n",
        "'''\n",
        "Answer: A generator is an iterable that yields items one at a time using a\n",
        "yield statement, whereas a list holds all its items in memory. Generators\n",
        "are more memory-efficient for large data sets.\n",
        "'''\n",
        "def count_up_to(n):\n",
        "    count = 1\n",
        "    while count <= n:\n",
        "        yield count\n",
        "        count += 1"
      ],
      "metadata": {
        "colab": {
          "base_uri": "https://localhost:8080/"
        },
        "id": "huA2oeO2MfT8",
        "outputId": "3f42b550-d6f3-4c38-d78f-dd58988a9366"
      },
      "execution_count": 4,
      "outputs": [
        {
          "output_type": "execute_result",
          "data": {
            "text/plain": [
              "<generator object count_up_to at 0x7a09d81816c0>"
            ]
          },
          "metadata": {},
          "execution_count": 4
        }
      ]
    },
    {
      "cell_type": "code",
      "source": [
        "# 15. Question: How can you achieve multi-threading in Python?\n",
        "'''\n",
        "Python has a threading module which can be used to achieve multi-threading.\n",
        "'''\n",
        "import threading\n",
        "\n",
        "def print_numbers():\n",
        "    for i in range(1, 6):\n",
        "        print(i)\n",
        "\n",
        "def print_letters():\n",
        "    for letter in 'abcde':\n",
        "        print(letter)\n",
        "\n",
        "thread1 = threading.Thread(target=print_numbers)\n",
        "thread2 = threading.Thread(target=print_letters)\n",
        "\n",
        "thread1.start()\n",
        "thread2.start()\n"
      ],
      "metadata": {
        "colab": {
          "base_uri": "https://localhost:8080/"
        },
        "id": "QSs6QVqpSQ7c",
        "outputId": "8b28eae3-29fe-423a-ee22-3eb09735056d"
      },
      "execution_count": 5,
      "outputs": [
        {
          "output_type": "stream",
          "name": "stdout",
          "text": [
            "1\n",
            "2\n",
            "3\n",
            "4\n",
            "5\n",
            "a\n",
            "b\n",
            "c\n",
            "d\n",
            "e\n"
          ]
        }
      ]
    },
    {
      "cell_type": "code",
      "source": [
        "# 16. Question: What are metaclasses in Python?\n",
        "'''\n",
        "Answer: Metaclasses are a deep and advanced topic in Python. Essentially,\n",
        "they are \"classes of a class\" that define how a class behaves. The default\n",
        "metaclass is type, but you can create your own metaclass to customize\n",
        "class behavior.\n",
        "'''"
      ],
      "metadata": {
        "colab": {
          "base_uri": "https://localhost:8080/",
          "height": 70
        },
        "id": "zJDq_jKMWJ-l",
        "outputId": "ae2dd7e7-472f-4502-ce0e-16f7f615496f"
      },
      "execution_count": 1,
      "outputs": [
        {
          "output_type": "execute_result",
          "data": {
            "text/plain": [
              "'\\nAnswer: Metaclasses are a deep and advanced topic in Python. Essentially, \\nthey are \"classes of a class\" that define how a class behaves. The default \\nmetaclass is type, but you can create your own metaclass to customize \\nclass behavior.\\n'"
            ],
            "application/vnd.google.colaboratory.intrinsic+json": {
              "type": "string"
            }
          },
          "metadata": {},
          "execution_count": 1
        }
      ]
    }
  ]
}